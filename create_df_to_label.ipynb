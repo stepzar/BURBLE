{
  "nbformat": 4,
  "nbformat_minor": 0,
  "metadata": {
    "colab": {
      "provenance": []
    },
    "kernelspec": {
      "name": "python3",
      "display_name": "Python 3"
    },
    "language_info": {
      "name": "python"
    }
  },
  "cells": [
    {
      "cell_type": "markdown",
      "source": [
        "## Create df to label for validation"
      ],
      "metadata": {
        "id": "SHBC8BgIB6zo"
      }
    },
    {
      "cell_type": "code",
      "execution_count": null,
      "metadata": {
        "id": "WE7MN2tFcEsA"
      },
      "outputs": [],
      "source": [
        "import pandas as pd\n",
        "import re\n",
        "\n",
        "\n",
        "path = \"eclipse_platform.csv\"\n",
        "\n",
        "df = pd.read_csv(path)"
      ]
    },
    {
      "cell_type": "code",
      "source": [
        "bug_reports = df.sample(n=300, random_state=27012001)"
      ],
      "metadata": {
        "id": "yxpj59DLjb5B"
      },
      "execution_count": null,
      "outputs": []
    },
    {
      "cell_type": "code",
      "source": [
        "# split a bug report to rows\n",
        "\n",
        "def report2rows(report):\n",
        "  bug_rep_lines = [x.strip().replace(\"\\t\",\"\") for x in report.split('; ') if x != \"\"]\n",
        "  \n",
        "  \n",
        "  return bug_rep_lines"
      ],
      "metadata": {
        "id": "foCvcIfoll_D"
      },
      "execution_count": null,
      "outputs": []
    },
    {
      "cell_type": "code",
      "source": [
        "lines = []\n",
        "for index, row in bug_reports.iterrows():\n",
        "  report = row[\"Description\"]\n",
        "  \n",
        "  for line in report2rows(report):\n",
        "    lines.append({\"id\":row[\"Issue_id\"], \"description\":line, \"contains_code\":False})\n",
        "\n",
        "new_df = pd.DataFrame(lines)\n",
        "new_df.to_csv(path + \"labeled.csv\")"
      ],
      "metadata": {
        "id": "lNZGLbr9lCzX"
      },
      "execution_count": null,
      "outputs": []
    }
  ]
}