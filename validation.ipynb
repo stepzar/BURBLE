{
  "nbformat": 4,
  "nbformat_minor": 0,
  "metadata": {
    "colab": {
      "provenance": []
    },
    "kernelspec": {
      "name": "python3",
      "display_name": "Python 3"
    },
    "language_info": {
      "name": "python"
    }
  },
  "cells": [
    {
      "cell_type": "markdown",
      "source": [
        "## Data Preparation"
      ],
      "metadata": {
        "id": "rdDpoPl_NGiW"
      }
    },
    {
      "cell_type": "code",
      "execution_count": null,
      "metadata": {
        "id": "mxJOxcYtCl3o"
      },
      "outputs": [],
      "source": [
        "import pandas as pd\n",
        "\n",
        "labeled_path =  \"labeled.csv\"\n",
        "\n",
        "df = pd.read_csv(labeled_path, sep=\";\")"
      ]
    },
    {
      "cell_type": "code",
      "source": [
        "# converting manual labeled True and False to Boolean True and False\n",
        "\n",
        "df.loc[df['contains_code'] == 'True', 'contains_code'] = True\n",
        "df.loc[df['contains_code'] == 'False', 'contains_code'] = False\n",
        "df['contains_code'] = df['contains_code'].astype(bool)\n",
        "\n",
        "df.to_csv(\"validation.csv\")"
      ],
      "metadata": {
        "id": "QEP5R9FkDUbk"
      },
      "execution_count": null,
      "outputs": []
    },
    {
      "cell_type": "markdown",
      "source": [
        "### Paramteters Combination"
      ],
      "metadata": {
        "id": "SLNfe5r8NXwK"
      }
    },
    {
      "cell_type": "code",
      "source": [
        "arr_len_min_string_code = [3,4,5,6,7,8]\n",
        "arr_perc_len_min_string_code = [0.3,0.4,0.5,0.6,0.7,0.8,0.9]\n",
        "arr_perc_detect_language = [0.7,0.8,0.9]\n",
        "arr_point_check_case = [0.5,1,1.5,2,2.5]\n",
        "arr_point_perc_of_spaces = [0.5,1,1.5,2,2.5]\n",
        "arr_perc_spaces = [0.05,0.1,0.15,0.2,0.25]\n",
        "arr_point_sentiment = [-0.5,-1,-1.5,-2,-2.5]\n",
        "arr_perc_score_to_words = [0.6,0.7,0.8,0.9]"
      ],
      "metadata": {
        "id": "mcvKejEG4unk"
      },
      "execution_count": null,
      "outputs": []
    },
    {
      "cell_type": "markdown",
      "source": [
        "## Function to test the classifier on the labeled dataset"
      ],
      "metadata": {
        "id": "m4mulRhaNZVk"
      }
    },
    {
      "cell_type": "code",
      "source": [
        "def test_classifier_on_df(len_min_string_code, perc_len_min_string_code, perc_detect_language,\n",
        "             point_check_case, point_perc_of_spaces, perc_spaces, point_sentiment,\n",
        "             perc_score_to_words):\n",
        "    df = pd.read_csv(\"validation.csv\")\n",
        "\n",
        "    df['result'] = df['description'].apply(lambda x: funzione(x, len_min_string_code, perc_len_min_string_code,\n",
        "                                                                      perc_detect_language, point_check_case,\n",
        "                                                                      point_perc_of_spaces, perc_spaces,\n",
        "                                                                      point_sentiment, perc_score_to_words))\n",
        "\n",
        "    df['true_positive'] = df.apply(lambda row: True if row['contains_code'] == True and row['result'] == True else False, axis=1)\n",
        "    df['true_negative'] = df.apply(lambda row: True if row['contains_code'] == False and row['result'] == False else False, axis=1)\n",
        "    df['false_positive'] = df.apply(lambda row: True if row['contains_code'] == False and row['result'] == True else False, axis=1)\n",
        "    df['false_negative'] = df.apply(lambda row: True if row['contains_code'] == True and row['result'] == False else False, axis=1)\n",
        "\n",
        "    return df"
      ],
      "metadata": {
        "id": "bnsGlibBMrye"
      },
      "execution_count": null,
      "outputs": []
    },
    {
      "cell_type": "markdown",
      "source": [
        "## Passing every combination to the function and saving the results"
      ],
      "metadata": {
        "id": "RxFM5CIfNk3P"
      }
    },
    {
      "cell_type": "code",
      "source": [
        "goods = []\n",
        "for len_min_string_code in arr_len_min_string_code:\n",
        "    for perc_len_min_string_code in arr_perc_len_min_string_code:\n",
        "        for perc_detect_language in arr_perc_detect_language:\n",
        "            for point_check_case in arr_point_check_case:\n",
        "                for point_perc_of_spaces in arr_point_perc_of_spaces:\n",
        "                    for perc_spaces in arr_perc_spaces:\n",
        "                        for point_sentiment in arr_point_sentiment:\n",
        "                            for perc_score_to_words in arr_perc_score_to_words:\n",
        "                                print(len_min_string_code, perc_len_min_string_code, perc_detect_language,\n",
        "                                          point_check_case, point_perc_of_spaces, perc_spaces, point_sentiment,\n",
        "                                          perc_score_to_words)\n",
        "\n",
        "                                x = test_funzione_on_df(len_min_string_code, perc_len_min_string_code, perc_detect_language,\n",
        "                                          point_check_case, point_perc_of_spaces, perc_spaces, point_sentiment,\n",
        "                                          perc_score_to_words)\n",
        "                                good = {\n",
        "                                    \"len_min_string_code\": len_min_string_code,\n",
        "                                    \"perc_len_min_string_code\": perc_len_min_string_code,\n",
        "                                    \"perc_detect_language\": perc_detect_language,\n",
        "                                    \"point_check_case\": point_check_case,\n",
        "                                    \"point_perc_of_spaces\": point_perc_of_spaces,\n",
        "                                    \"perc_spaces\": perc_spaces,\n",
        "                                    \"point_sentiment\": point_sentiment,\n",
        "                                    \"perc_score_to_words\": perc_score_to_words,\n",
        "                                    \"true_positive\": x['true_positive'].value_counts()[True],\n",
        "                                    \"true_negative\": x['true_negative'].value_counts()[True],\n",
        "                                    \"false_positive\": x['false_positive'].value_counts()[True],\n",
        "                                    \"false_negative\": x['false_negative'].value_counts()[True]\n",
        "                                }\n",
        "\n",
        "                                goods.append(good)\n",
        "\n",
        "goods.to_csv(f\"confusion_matrix.csv\")"
      ],
      "metadata": {
        "id": "jV53dkiGM9JD"
      },
      "execution_count": null,
      "outputs": []
    }
  ]
}